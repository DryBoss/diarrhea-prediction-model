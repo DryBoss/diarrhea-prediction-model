{
  "nbformat": 4,
  "nbformat_minor": 0,
  "metadata": {
    "colab": {
      "provenance": [],
      "authorship_tag": "ABX9TyPTV+IsmObJKlI/VTQSui98",
      "include_colab_link": true
    },
    "kernelspec": {
      "name": "python3",
      "display_name": "Python 3"
    },
    "language_info": {
      "name": "python"
    }
  },
  "cells": [
    {
      "cell_type": "markdown",
      "metadata": {
        "id": "view-in-github",
        "colab_type": "text"
      },
      "source": [
        "<a href=\"https://colab.research.google.com/github/DryBoss/diarrhea-prediction-model/blob/main/diarrhea_prediction_model.ipynb\" target=\"_parent\"><img src=\"https://colab.research.google.com/assets/colab-badge.svg\" alt=\"Open In Colab\"/></a>"
      ]
    },
    {
      "cell_type": "markdown",
      "source": [
        "#data import"
      ],
      "metadata": {
        "id": "DPPb7gQxPcIs"
      }
    },
    {
      "cell_type": "code",
      "source": [
        "import pandas as pd"
      ],
      "metadata": {
        "id": "GEAblqKMPfxq"
      },
      "execution_count": 3,
      "outputs": []
    },
    {
      "cell_type": "code",
      "source": [
        "chattogram_df = pd.read_csv(\"https://raw.githubusercontent.com/DryBoss/diarrhea-prediction-model/main/data/Chattogram.csv\")\n",
        "dhaka_df = pd.read_csv(\"https://raw.githubusercontent.com/DryBoss/diarrhea-prediction-model/main/data/Dhaka.csv\")\n",
        "khulna_df = pd.read_csv(\"https://raw.githubusercontent.com/DryBoss/diarrhea-prediction-model/main/data/Khulna.csv\")\n",
        "rajshahi_df = pd.read_csv(\"https://raw.githubusercontent.com/DryBoss/diarrhea-prediction-model/main/data/Rajshahi.csv\")"
      ],
      "metadata": {
        "id": "PSlznj8FPisa"
      },
      "execution_count": 5,
      "outputs": []
    },
    {
      "cell_type": "code",
      "source": [],
      "metadata": {
        "id": "oD2dXEDGQCUC"
      },
      "execution_count": null,
      "outputs": []
    }
  ]
}