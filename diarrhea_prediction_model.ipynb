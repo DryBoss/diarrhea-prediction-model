{
  "nbformat": 4,
  "nbformat_minor": 0,
  "metadata": {
    "colab": {
      "provenance": [],
      "toc_visible": true,
      "authorship_tag": "ABX9TyPr5WOwraYEWaqwI8ToodCG"
    },
    "kernelspec": {
      "name": "python3",
      "display_name": "Python 3"
    },
    "language_info": {
      "name": "python"
    }
  },
  "cells": [
    {
      "cell_type": "markdown",
      "source": [
        "#model"
      ],
      "metadata": {
        "id": "zwQrwU_EPXdo"
      }
    },
    {
      "cell_type": "code",
      "source": [
        "import pandas as pd"
      ],
      "metadata": {
        "id": "GEAblqKMPfxq"
      },
      "execution_count": null,
      "outputs": []
    },
    {
      "cell_type": "code",
      "source": [
        "chattogram_df = pd.read_csv(\"https://raw.githubusercontent.com/DryBoss/diarrhea-prediction-model/main/data/Chattogram.csv\")\n",
        "dhaka_df = pd.read_csv(\"https://raw.githubusercontent.com/DryBoss/diarrhea-prediction-model/main/data/Dhaka.csv\")\n",
        "khulna_df = pd.read_csv(\"https://raw.githubusercontent.com/DryBoss/diarrhea-prediction-model/main/data/Khulna.csv\")\n",
        "rajshahi_df = pd.read_csv(\"https://raw.githubusercontent.com/DryBoss/diarrhea-prediction-model/main/data/Rajshahi.csv\")"
      ],
      "metadata": {
        "id": "PSlznj8FPisa"
      },
      "execution_count": 46,
      "outputs": []
    },
    {
      "cell_type": "code",
      "source": [
        "# List of dataframes to process\n",
        "dataframes = [chattogram_df, dhaka_df, khulna_df, rajshahi_df]\n",
        "\n",
        "# Process each dataframe\n",
        "for df in dataframes:\n",
        "    # Ensure 'Date' is in datetime format\n",
        "    df['Date'] = pd.to_datetime(df['Date'])\n",
        "\n",
        "    # Smooth each column (excluding 'Date') using a 30-day moving average\n",
        "    for column in df.columns:\n",
        "        if column != 'Date':  # Skip the 'Date' column\n",
        "            smoothed_column = f'{column}_smooth'\n",
        "            df[smoothed_column] = df[column].rolling(window=30).mean()\n"
      ],
      "metadata": {
        "id": "oD2dXEDGQCUC"
      },
      "execution_count": 48,
      "outputs": []
    },
    {
      "cell_type": "code",
      "source": [
        "chattogram_df = chattogram_df.dropna()\n",
        "dhaka_df = dhaka_df.dropna()\n",
        "khulna_df = khulna_df.dropna()\n",
        "rajshahi_df = rajshahi_df.dropna()"
      ],
      "metadata": {
        "id": "e_PGR_IDUVz0"
      },
      "execution_count": 56,
      "outputs": []
    },
    {
      "cell_type": "code",
      "source": [
        "from sklearn.model_selection import train_test_split\n",
        "\n",
        "X = chattogram_df.drop(columns=['Date', 'Diarrhea', 'Minimum Temperature',\t'Maximum Temperature', 'Humidity', 'Preceptation', 'Diarrhea_smooth'])\n",
        "y = chattogram_df['Diarrhea']\n",
        "\n",
        "X_train, X_test, y_train, y_test = train_test_split(X, y, test_size=0.2, random_state=42)"
      ],
      "metadata": {
        "id": "jbkWzHccTqNb"
      },
      "execution_count": 68,
      "outputs": []
    },
    {
      "cell_type": "code",
      "source": [
        "from sklearn.ensemble import RandomForestRegressor\n",
        "\n",
        "# Initialize the model\n",
        "rf_regressor = RandomForestRegressor(n_estimators=100, random_state=42)\n",
        "\n",
        "# Train the model\n",
        "rf_regressor.fit(X_train, y_train)\n",
        "\n",
        "# Make predictions\n",
        "y_pred = rf_regressor.predict(X_test)\n"
      ],
      "metadata": {
        "id": "6KEEeUVFVLSz"
      },
      "execution_count": 69,
      "outputs": []
    },
    {
      "cell_type": "code",
      "source": [
        "from sklearn.metrics import mean_squared_error\n",
        "\n",
        "mse = mean_squared_error(y_test, y_pred)\n",
        "print(\"Mean Squared Error:\", mse)\n",
        "\n",
        "r2 = rf_regressor.score(X_test, y_test)\n",
        "print(\"R² Score:\", r2)\n"
      ],
      "metadata": {
        "id": "hudDSJdHWKVz",
        "outputId": "e259d92f-ee93-4805-ba82-6b7f590179f6",
        "colab": {
          "base_uri": "https://localhost:8080/"
        }
      },
      "execution_count": 70,
      "outputs": [
        {
          "output_type": "stream",
          "name": "stdout",
          "text": [
            "Mean Squared Error: 278.38621905298055\n",
            "R² Score: 0.6789067814990957\n"
          ]
        }
      ]
    },
    {
      "cell_type": "code",
      "source": [],
      "metadata": {
        "id": "Un2PJMwcWRKz"
      },
      "execution_count": null,
      "outputs": []
    }
  ]
}