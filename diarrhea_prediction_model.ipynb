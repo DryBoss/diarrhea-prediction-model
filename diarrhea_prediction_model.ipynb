{
  "nbformat": 4,
  "nbformat_minor": 0,
  "metadata": {
    "colab": {
      "provenance": [],
      "toc_visible": true,
      "authorship_tag": "ABX9TyPYohv3BNd7dpSsw4eddYL/"
    },
    "kernelspec": {
      "name": "python3",
      "display_name": "Python 3"
    },
    "language_info": {
      "name": "python"
    }
  },
  "cells": [
    {
      "cell_type": "markdown",
      "source": [
        "# data"
      ],
      "metadata": {
        "id": "zwQrwU_EPXdo"
      }
    },
    {
      "cell_type": "code",
      "source": [
        "import pandas as pd\n",
        "import scipy.stats as stats\n",
        "import statsmodels.api as sm\n",
        "import statsmodels.formula.api as smf"
      ],
      "metadata": {
        "id": "GEAblqKMPfxq"
      },
      "execution_count": 5,
      "outputs": []
    },
    {
      "cell_type": "code",
      "source": [
        "chattogram_df = pd.read_csv(\"https://raw.githubusercontent.com/DryBoss/diarrhea-prediction-model/main/data/Chattogram.csv\")\n",
        "dhaka_df = pd.read_csv(\"https://raw.githubusercontent.com/DryBoss/diarrhea-prediction-model/main/data/Dhaka.csv\")\n",
        "khulna_df = pd.read_csv(\"https://raw.githubusercontent.com/DryBoss/diarrhea-prediction-model/main/data/Khulna.csv\")\n",
        "rajshahi_df = pd.read_csv(\"https://raw.githubusercontent.com/DryBoss/diarrhea-prediction-model/main/data/Rajshahi.csv\")"
      ],
      "metadata": {
        "id": "PSlznj8FPisa"
      },
      "execution_count": 2,
      "outputs": []
    },
    {
      "cell_type": "code",
      "source": [
        "# List of dataframes to process\n",
        "dataframes = [chattogram_df, dhaka_df, khulna_df, rajshahi_df]\n",
        "\n",
        "# Process each dataframe\n",
        "for df in dataframes:\n",
        "    # Ensure 'Date' is in datetime format\n",
        "    df['Date'] = pd.to_datetime(df['Date'])\n",
        "\n",
        "    \"\"\"# Smooth each column (excluding 'Date') using a 30-day moving average\n",
        "    for column in df.columns:\n",
        "        if column != 'Date':  # Skip the 'Date' column\n",
        "            smoothed_column = f'{column}_smooth'\n",
        "            df[smoothed_column] = df[column].rolling(window=30).mean()\"\"\"\n"
      ],
      "metadata": {
        "id": "oD2dXEDGQCUC"
      },
      "execution_count": 3,
      "outputs": []
    },
    {
      "cell_type": "markdown",
      "source": [
        "# statistical analysis\n",
        "\n"
      ],
      "metadata": {
        "id": "KPUnekIHXvYT"
      }
    },
    {
      "cell_type": "markdown",
      "source": [
        "## Correlation Analysis"
      ],
      "metadata": {
        "id": "NpFBCFT7Zqh0"
      }
    },
    {
      "cell_type": "code",
      "source": [
        "import pandas as pd\n",
        "import scipy.stats as stats\n",
        "import statsmodels.api as sm\n",
        "import statsmodels.formula.api as smf\n",
        "\n",
        "# Pearson Correlation (Linear Relationship)\n",
        "print(\"Pearson Correlation Coefficients and p-values:\")\n",
        "for col in [\"Minimum Temperature\", \"Maximum Temperature\", \"Humidity\", \"Preceptation\"]:\n",
        "    corr, p_value = stats.pearsonr(df[\"Diarrhea\"], df[col])\n",
        "    print(f\"{col}: Correlation={corr:.3f}, p-value={p_value:.3f}\")\n",
        "\n",
        "# Spearman Correlation (Non-Linear Relationship)\n",
        "print(\"\\nSpearman Correlation Coefficients and p-values:\")\n",
        "for col in [\"Minimum Temperature\", \"Maximum Temperature\", \"Humidity\", \"Preceptation\"]:\n",
        "    corr, p_value = stats.spearmanr(df[\"Diarrhea\"], df[col])\n",
        "    print(f\"{col}: Correlation={corr:.3f}, p-value={p_value:.3f}\")"
      ],
      "metadata": {
        "id": "3xV3uxkZVvCD",
        "outputId": "3dca14ed-b4f6-4296-84db-2b3342bd4d23",
        "colab": {
          "base_uri": "https://localhost:8080/"
        }
      },
      "execution_count": 6,
      "outputs": [
        {
          "output_type": "stream",
          "name": "stdout",
          "text": [
            "Pearson Correlation Coefficients and p-values:\n",
            "Minimum Temperature: Correlation=0.268, p-value=0.000\n",
            "Maximum Temperature: Correlation=0.439, p-value=0.000\n",
            "Humidity: Correlation=-0.231, p-value=0.000\n",
            "Preceptation: Correlation=-0.044, p-value=0.248\n",
            "\n",
            "Spearman Correlation Coefficients and p-values:\n",
            "Minimum Temperature: Correlation=0.217, p-value=0.000\n",
            "Maximum Temperature: Correlation=0.412, p-value=0.000\n",
            "Humidity: Correlation=-0.155, p-value=0.000\n",
            "Preceptation: Correlation=0.064, p-value=0.090\n"
          ]
        }
      ]
    },
    {
      "cell_type": "code",
      "source": [
        "# Linear Regression (ANOVA/t-test)\n",
        "formula = \"Diarrhea ~ Q('Minimum Temperature') + Q('Maximum Temperature') + Q('Humidity') + Q('Preceptation')\"\n",
        "model = smf.ols(formula, data=df).fit()\n",
        "anova_results = sm.stats.anova_lm(model, typ=2)\n",
        "\n",
        "print(\"\\nANOVA Results:\")\n",
        "print(anova_results)"
      ],
      "metadata": {
        "id": "DW3BdEssWbmz",
        "outputId": "62bf0db1-ed31-4ebf-96d2-d8b5186b4751",
        "colab": {
          "base_uri": "https://localhost:8080/"
        }
      },
      "execution_count": 8,
      "outputs": [
        {
          "output_type": "stream",
          "name": "stdout",
          "text": [
            "\n",
            "ANOVA Results:\n",
            "                                 sum_sq     df          F        PR(>F)\n",
            "Q('Minimum Temperature')     978.330308    1.0   2.592605  1.078151e-01\n",
            "Q('Maximum Temperature')    9643.786952    1.0  25.556333  5.493376e-07\n",
            "Q('Humidity')                224.281488    1.0   0.594353  4.410013e-01\n",
            "Q('Preceptation')             49.642291    1.0   0.131554  7.169363e-01\n",
            "Residual                  263770.516504  699.0        NaN           NaN\n"
          ]
        }
      ]
    },
    {
      "cell_type": "code",
      "source": [],
      "metadata": {
        "id": "I5Ng0xA3XBg7"
      },
      "execution_count": null,
      "outputs": []
    }
  ]
}