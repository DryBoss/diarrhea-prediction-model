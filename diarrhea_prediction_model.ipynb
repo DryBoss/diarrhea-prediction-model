{
  "nbformat": 4,
  "nbformat_minor": 0,
  "metadata": {
    "colab": {
      "provenance": [],
      "toc_visible": true,
      "authorship_tag": "ABX9TyNhdQvfUfi7FfNT3yq26DDJ"
    },
    "kernelspec": {
      "name": "python3",
      "display_name": "Python 3"
    },
    "language_info": {
      "name": "python"
    }
  },
  "cells": [
    {
      "cell_type": "markdown",
      "source": [
        "#model"
      ],
      "metadata": {
        "id": "zwQrwU_EPXdo"
      }
    },
    {
      "cell_type": "code",
      "source": [
        "import pandas as pd"
      ],
      "metadata": {
        "id": "GEAblqKMPfxq"
      },
      "execution_count": 41,
      "outputs": []
    },
    {
      "cell_type": "code",
      "source": [
        "chattogram_df = pd.read_csv(\"https://raw.githubusercontent.com/DryBoss/diarrhea-prediction-model/main/data/Chattogram.csv\")\n",
        "dhaka_df = pd.read_csv(\"https://raw.githubusercontent.com/DryBoss/diarrhea-prediction-model/main/data/Dhaka.csv\")\n",
        "khulna_df = pd.read_csv(\"https://raw.githubusercontent.com/DryBoss/diarrhea-prediction-model/main/data/Khulna.csv\")\n",
        "rajshahi_df = pd.read_csv(\"https://raw.githubusercontent.com/DryBoss/diarrhea-prediction-model/main/data/Rajshahi.csv\")"
      ],
      "metadata": {
        "id": "PSlznj8FPisa"
      },
      "execution_count": 42,
      "outputs": []
    },
    {
      "cell_type": "code",
      "source": [
        "# List of dataframes to process\n",
        "dataframes = [chattogram_df, dhaka_df, khulna_df, rajshahi_df]\n",
        "\n",
        "# Process each dataframe\n",
        "for df in dataframes:\n",
        "    # Ensure 'Date' is in datetime format\n",
        "    df['Date'] = pd.to_datetime(df['Date'])\n",
        "\n",
        "    # Smooth each column (excluding 'Date') using a 30-day moving average\n",
        "    for column in df.columns:\n",
        "        if column != 'Date':  # Skip the 'Date' column\n",
        "            smoothed_column = f'{column}_smooth'\n",
        "            df[smoothed_column] = df[column].rolling(window=30).mean()\n",
        ""
      ],
      "metadata": {
        "id": "oD2dXEDGQCUC"
      },
      "execution_count": 43,
      "outputs": []
    },
    {
      "cell_type": "code",
      "source": [],
      "metadata": {
        "id": "T5eIoZccQidv"
      },
      "execution_count": null,
      "outputs": []
    }
  ]
}